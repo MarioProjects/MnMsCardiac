{
 "cells": [
  {
   "cell_type": "markdown",
   "metadata": {},
   "source": [
    "### Import libraries"
   ]
  },
  {
   "cell_type": "code",
   "execution_count": 1,
   "metadata": {},
   "outputs": [],
   "source": [
    "import sys\n",
    "sys.path.append(\"../\")"
   ]
  },
  {
   "cell_type": "code",
   "execution_count": 2,
   "metadata": {},
   "outputs": [],
   "source": [
    "import os\n",
    "from os import environ\n",
    "import numpy as np\n",
    "from random import choices\n",
    "import pandas as pd\n",
    "from tqdm.notebook import tqdm"
   ]
  },
  {
   "cell_type": "code",
   "execution_count": 3,
   "metadata": {},
   "outputs": [],
   "source": [
    "import skimage.io as io"
   ]
  },
  {
   "cell_type": "code",
   "execution_count": 4,
   "metadata": {},
   "outputs": [],
   "source": [
    "import seaborn as sns\n",
    "import matplotlib.pyplot as plt\n",
    "import matplotlib.transforms as mtrans\n",
    "%matplotlib inline"
   ]
  },
  {
   "cell_type": "code",
   "execution_count": 5,
   "metadata": {},
   "outputs": [],
   "source": [
    "from preprocess.common import load_nii"
   ]
  },
  {
   "cell_type": "code",
   "execution_count": 6,
   "metadata": {},
   "outputs": [],
   "source": [
    "from torch.utils.data import DataLoader\n",
    "from torchcontrib.optim import SWA\n",
    "\n",
    "# ---- My utils ----\n",
    "from utils.data_augmentation import data_augmentation_selector\n",
    "from utils.dataload import *\n",
    "from utils.training import *\n",
    "from utils.testing import *\n",
    "from models import *\n",
    "from tqdm.notebook import tqdm"
   ]
  },
  {
   "cell_type": "markdown",
   "metadata": {},
   "source": [
    "### Load Model"
   ]
  },
  {
   "cell_type": "code",
   "execution_count": 7,
   "metadata": {},
   "outputs": [
    {
     "name": "stdout",
     "output_type": "stream",
     "text": [
      "Model total number of parameters: 35743216\n",
      "Segmentator checkpoint loaded correctly!\n"
     ]
    }
   ],
   "source": [
    "num_classes, crop_size, model_name = 4, 224, \"resnet34_unet_scratch\"\n",
    "\n",
    "segmentator = model_selector(model_name, num_classes=num_classes, in_channels=1)\n",
    "model_total_params = sum(p.numel() for p in segmentator.parameters())\n",
    "print(\"Model total number of parameters: {}\".format(model_total_params))\n",
    "segmentator = torch.nn.DataParallel(segmentator, device_ids=range(torch.cuda.device_count()))\n",
    "\n",
    "###########################################################################################\n",
    "\n",
    "model_checkpoint = \"../evaluationSubmission/segmentator_swa_v1.pt\"\n",
    "segmentator.load_state_dict(torch.load(model_checkpoint))\n",
    "print(\"Segmentator checkpoint loaded correctly!\")"
   ]
  },
  {
   "cell_type": "markdown",
   "metadata": {},
   "source": [
    "### Load Data"
   ]
  },
  {
   "cell_type": "code",
   "execution_count": 8,
   "metadata": {},
   "outputs": [
    {
     "data": {
      "text/html": [
       "<div>\n",
       "<style scoped>\n",
       "    .dataframe tbody tr th:only-of-type {\n",
       "        vertical-align: middle;\n",
       "    }\n",
       "\n",
       "    .dataframe tbody tr th {\n",
       "        vertical-align: top;\n",
       "    }\n",
       "\n",
       "    .dataframe thead th {\n",
       "        text-align: right;\n",
       "    }\n",
       "</style>\n",
       "<table border=\"1\" class=\"dataframe\">\n",
       "  <thead>\n",
       "    <tr style=\"text-align: right;\">\n",
       "      <th></th>\n",
       "      <th>External code</th>\n",
       "      <th>Vendor</th>\n",
       "      <th>Centre</th>\n",
       "      <th>Labeled</th>\n",
       "      <th>Type</th>\n",
       "      <th>Phase</th>\n",
       "      <th>Slice</th>\n",
       "    </tr>\n",
       "  </thead>\n",
       "  <tbody>\n",
       "    <tr>\n",
       "      <th>0</th>\n",
       "      <td>A0S9V9</td>\n",
       "      <td>A</td>\n",
       "      <td>1</td>\n",
       "      <td>True</td>\n",
       "      <td>ED</td>\n",
       "      <td>0</td>\n",
       "      <td>0</td>\n",
       "    </tr>\n",
       "    <tr>\n",
       "      <th>1</th>\n",
       "      <td>A0S9V9</td>\n",
       "      <td>A</td>\n",
       "      <td>1</td>\n",
       "      <td>True</td>\n",
       "      <td>ED</td>\n",
       "      <td>0</td>\n",
       "      <td>1</td>\n",
       "    </tr>\n",
       "    <tr>\n",
       "      <th>2</th>\n",
       "      <td>A0S9V9</td>\n",
       "      <td>A</td>\n",
       "      <td>1</td>\n",
       "      <td>True</td>\n",
       "      <td>ED</td>\n",
       "      <td>0</td>\n",
       "      <td>2</td>\n",
       "    </tr>\n",
       "    <tr>\n",
       "      <th>3</th>\n",
       "      <td>A0S9V9</td>\n",
       "      <td>A</td>\n",
       "      <td>1</td>\n",
       "      <td>True</td>\n",
       "      <td>ED</td>\n",
       "      <td>0</td>\n",
       "      <td>3</td>\n",
       "    </tr>\n",
       "    <tr>\n",
       "      <th>4</th>\n",
       "      <td>A0S9V9</td>\n",
       "      <td>A</td>\n",
       "      <td>1</td>\n",
       "      <td>True</td>\n",
       "      <td>ED</td>\n",
       "      <td>0</td>\n",
       "      <td>4</td>\n",
       "    </tr>\n",
       "  </tbody>\n",
       "</table>\n",
       "</div>"
      ],
      "text/plain": [
       "  External code Vendor  Centre  Labeled Type  Phase  Slice\n",
       "0        A0S9V9      A       1     True   ED      0      0\n",
       "1        A0S9V9      A       1     True   ED      0      1\n",
       "2        A0S9V9      A       1     True   ED      0      2\n",
       "3        A0S9V9      A       1     True   ED      0      3\n",
       "4        A0S9V9      A       1     True   ED      0      4"
      ]
     },
     "execution_count": 8,
     "metadata": {},
     "output_type": "execute_result"
    }
   ],
   "source": [
    "df = pd.read_csv(\"../utils/data/train.csv\")\n",
    "df.head()"
   ]
  },
  {
   "cell_type": "code",
   "execution_count": 9,
   "metadata": {},
   "outputs": [
    {
     "data": {
      "text/plain": [
       "'/home/maparla/DeepLearning/Datasets/MMs/Training-corrected'"
      ]
     },
     "execution_count": 9,
     "metadata": {},
     "output_type": "execute_result"
    }
   ],
   "source": [
    "rootdir = os.path.join(os.environ.get('MMsCardiac_DATA_PATH'), \"Training-corrected\")\n",
    "rootdir"
   ]
  },
  {
   "cell_type": "markdown",
   "metadata": {},
   "source": [
    "### Generate Masks"
   ]
  },
  {
   "cell_type": "code",
   "execution_count": 10,
   "metadata": {},
   "outputs": [
    {
     "name": "stdout",
     "output_type": "stream",
     "text": [
      "Using None Data Augmentation\n"
     ]
    }
   ],
   "source": [
    "train_aug, train_aug_img, val_aug = data_augmentation_selector(\"none\", 224, 224)"
   ]
  },
  {
   "cell_type": "code",
   "execution_count": 11,
   "metadata": {},
   "outputs": [],
   "source": [
    "def apply_volume_augmentations(list_images, transform, img_transform):\n",
    "    \"\"\"\n",
    "    Apply same augmentations to volume images\n",
    "    :param list_images: (array) [num_images, height, width] Images to transform\n",
    "    :return: (array) [num_images, height, width] Transformed Images\n",
    "    \"\"\"\n",
    "    if img_transform:\n",
    "        # Independent augmentations...\n",
    "        for indx, img in enumerate(list_images):\n",
    "            augmented = img_transform(image=img)\n",
    "            list_images[indx] = augmented['image']\n",
    "\n",
    "    if transform:\n",
    "        # All augmentations applied in same proportion and values\n",
    "        imgs_ids = [\"image\"] + [\"image{}\".format(idx + 2) for idx in range(len(list_images) - 1)]\n",
    "        aug_args = dict(zip(imgs_ids, list_images))\n",
    "\n",
    "        pair_ids_imgs = [\"image{}\".format(idx + 2) for idx in range(len(list_images) - 1)]\n",
    "        base_id_imgs = [\"image\"] * len(pair_ids_imgs)\n",
    "        list_additional_targets = dict(zip(pair_ids_imgs, base_id_imgs))\n",
    "\n",
    "        volumetric_aug = albumentations.Compose(transform, additional_targets=list_additional_targets)\n",
    "        augmented = volumetric_aug(**aug_args)\n",
    "\n",
    "        list_images = np.stack([augmented[img] for img in imgs_ids])\n",
    "\n",
    "    return list_images"
   ]
  },
  {
   "cell_type": "code",
   "execution_count": 12,
   "metadata": {},
   "outputs": [],
   "source": [
    "def apply_volume_normalization(list_images, normalization):\n",
    "    for indx, image in enumerate(list_images):\n",
    "        list_images[indx, ...] = apply_normalization(image, normalization)\n",
    "    return list_images"
   ]
  },
  {
   "cell_type": "code",
   "execution_count": 13,
   "metadata": {},
   "outputs": [],
   "source": [
    "base_dir = MMs_DATA_PATH = os.environ.get('MMsCardiac_DATA_PATH')\n",
    "save_dir = os.path.join( base_dir, \"Weakly\" )\n",
    "os.makedirs(save_dir, exist_ok=True)\n",
    "os.makedirs(os.path.join(save_dir, \"Images\", \"Labeled\"), exist_ok=True)\n",
    "os.makedirs(os.path.join(save_dir, \"Masks\", \"Labeled\"), exist_ok=True)"
   ]
  },
  {
   "cell_type": "code",
   "execution_count": 14,
   "metadata": {},
   "outputs": [
    {
     "data": {
      "application/vnd.jupyter.widget-view+json": {
       "model_id": "282159e1fb1b404783d1f31eb0ec053e",
       "version_major": 2,
       "version_minor": 0
      },
      "text/plain": [
       "HBox(children=(FloatProgress(value=0.0, max=151.0), HTML(value='')))"
      ]
     },
     "metadata": {},
     "output_type": "display_data"
    },
    {
     "name": "stdout",
     "output_type": "stream",
     "text": [
      "\n"
     ]
    }
   ],
   "source": [
    "segmentator.eval()\n",
    "\n",
    "for subdir, dirs, files in tqdm(list(os.walk(os.path.join(rootdir, \"Labeled\")))):\n",
    "    for file in files:\n",
    "        if not \"gt\" in file:\n",
    "            file_path = os.path.join(subdir, file)\n",
    "            volume_img, _, _ = load_nii(file_path)\n",
    "            c_patient = file[:file.find(\"_\")]\n",
    "            for c_phase in range(volume_img.shape[3]):\n",
    "                # We must check that the volume is not labeled, no match for current phase and patient\n",
    "                if len(df.loc[(df[\"External code\"]==c_patient) & (df[\"Phase\"]==c_phase)]) == 0:\n",
    "                    # Iterate over slices, predict and save image slice (not normalized) \n",
    "                    # and his mask as numpy array\n",
    "                    c_volume = volume_img[..., :, c_phase]\n",
    "                    c_volume = c_volume.transpose(2, 0, 1)\n",
    "                    c_volume = apply_volume_augmentations(c_volume, train_aug, None)\n",
    "                    c_volume = apply_volume_normalization(c_volume, \"standardize\")\n",
    "                    c_volume = np.expand_dims(c_volume, axis=1)\n",
    "                    c_volume = torch.from_numpy(c_volume)\n",
    "                    \n",
    "                    with torch.no_grad():\n",
    "                        image = c_volume.type(torch.float).cuda()\n",
    "                        prob_pred = segmentator(image)\n",
    "                        pred_mask_binary = binarize_volume_prediction(prob_pred, volume_img.shape[0:3])\n",
    "                        \n",
    "                        for c_slice in range(pred_mask_binary.shape[0]):\n",
    "                            img_id = f\"{c_patient}_slice{c_slice}_phase{c_phase}.npy\"\n",
    "                            np.save(os.path.join(\n",
    "                                save_dir, \"Images\", \"Labeled\", img_id\n",
    "                            ), volume_img[...,c_slice,c_phase])\n",
    "                            \n",
    "                            np.save(os.path.join(\n",
    "                                save_dir, \"Masks\", \"Labeled\", img_id\n",
    "                            ), pred_mask_binary[c_slice,...])\n",
    "                            "
   ]
  },
  {
   "cell_type": "code",
   "execution_count": 14,
   "metadata": {},
   "outputs": [],
   "source": [
    "os.makedirs(os.path.join(save_dir, \"Images\", \"Unlabeled\"), exist_ok=True)\n",
    "os.makedirs(os.path.join(save_dir, \"Masks\", \"Unlabeled\"), exist_ok=True)"
   ]
  },
  {
   "cell_type": "code",
   "execution_count": 16,
   "metadata": {},
   "outputs": [
    {
     "data": {
      "application/vnd.jupyter.widget-view+json": {
       "model_id": "e38e6964b5ae4f2a8c08d6f465369ccc",
       "version_major": 2,
       "version_minor": 0
      },
      "text/plain": [
       "HBox(children=(FloatProgress(value=0.0, max=26.0), HTML(value='')))"
      ]
     },
     "metadata": {},
     "output_type": "display_data"
    },
    {
     "name": "stdout",
     "output_type": "stream",
     "text": [
      "\n"
     ]
    }
   ],
   "source": [
    "segmentator.eval()\n",
    "\n",
    "for subdir, dirs, files in tqdm(list(os.walk(os.path.join(rootdir, \"Unlabeled\")))):\n",
    "    for file in files:\n",
    "        if not \"gt\" in file:\n",
    "            file_path = os.path.join(subdir, file)\n",
    "            volume_img, _, _ = load_nii(file_path)\n",
    "            c_patient = file[:file.find(\"_\")]\n",
    "            for c_phase in range(volume_img.shape[3]):\n",
    "                # For unlabeled whe should label ALL\n",
    "                if True:\n",
    "                    # Iterate over slices, predict and save image slice (not normalized) \n",
    "                    # and his mask as numpy array\n",
    "                    c_volume = volume_img[..., :, c_phase]\n",
    "                    c_volume = c_volume.transpose(2, 0, 1)\n",
    "                    c_volume = apply_volume_augmentations(c_volume, train_aug, None)\n",
    "                    c_volume = apply_volume_normalization(c_volume, \"standardize\")\n",
    "                    c_volume = np.expand_dims(c_volume, axis=1)\n",
    "                    c_volume = torch.from_numpy(c_volume)\n",
    "                    \n",
    "                    with torch.no_grad():\n",
    "                        image = c_volume.type(torch.float).cuda()\n",
    "                        prob_pred = segmentator(image)\n",
    "                        pred_mask_binary = binarize_volume_prediction(prob_pred, volume_img.shape[0:3])\n",
    "                        \n",
    "                        for c_slice in range(pred_mask_binary.shape[0]):\n",
    "                            img_id = f\"{c_patient}_slice{c_slice}_phase{c_phase}.npy\"\n",
    "                            np.save(os.path.join(\n",
    "                                save_dir, \"Images\", \"Unlabeled\", img_id\n",
    "                            ), volume_img[...,c_slice,c_phase])\n",
    "                            \n",
    "                            np.save(os.path.join(\n",
    "                                save_dir, \"Masks\", \"Unlabeled\", img_id\n",
    "                            ), pred_mask_binary[c_slice,...])\n",
    "                            "
   ]
  },
  {
   "cell_type": "markdown",
   "metadata": {},
   "source": [
    "### Check Predictions"
   ]
  },
  {
   "cell_type": "code",
   "execution_count": 15,
   "metadata": {},
   "outputs": [],
   "source": [
    "for subdir, dirs, files in os.walk(os.path.join(save_dir, \"Images\", \"Labeled\")):\n",
    "    for file in files:\n",
    "        file_path = os.path.join(subdir, file)\n",
    "    break"
   ]
  },
  {
   "cell_type": "code",
   "execution_count": 16,
   "metadata": {},
   "outputs": [
    {
     "data": {
      "text/plain": [
       "(208, 256)"
      ]
     },
     "execution_count": 16,
     "metadata": {},
     "output_type": "execute_result"
    }
   ],
   "source": [
    "img = np.load(file_path)\n",
    "img.shape"
   ]
  },
  {
   "cell_type": "code",
   "execution_count": 17,
   "metadata": {},
   "outputs": [
    {
     "data": {
      "text/plain": [
       "(208, 256)"
      ]
     },
     "execution_count": 17,
     "metadata": {},
     "output_type": "execute_result"
    }
   ],
   "source": [
    "mask = np.load(os.path.join(save_dir, \"Masks\", \"Labeled\", file))\n",
    "mask.shape"
   ]
  },
  {
   "cell_type": "code",
   "execution_count": 18,
   "metadata": {},
   "outputs": [
    {
     "data": {
      "text/plain": [
       "Text(0.5, 1.0, 'Original Overlay')"
      ]
     },
     "execution_count": 18,
     "metadata": {},
     "output_type": "execute_result"
    },
    {
     "data": {
      "image/png": "[encoded data removed]",
      "text/plain": [
       "<Figure size 1152x1152 with 2 Axes>"
      ]
     },
     "metadata": {
      "needs_background": "light"
     },
     "output_type": "display_data"
    }
   ],
   "source": [
    "fig, (ax1, ax2) = plt.subplots(1, 2, figsize=(16, 16))\n",
    "ax1.axis('off')\n",
    "ax2.axis('off')\n",
    "\n",
    "ax1.imshow(img, cmap=\"gray\")\n",
    "ax1.set_title(\"Original Image\")\n",
    "\n",
    "masked = np.ma.masked_where(mask == 0, mask)\n",
    "ax2.imshow(img, cmap=\"gray\")\n",
    "ax2.imshow(masked, 'jet', interpolation='bilinear', alpha=0.25)\n",
    "ax2.set_title(\"Original Overlay\")"
   ]
  },
  {
   "cell_type": "markdown",
   "metadata": {},
   "source": [
    "### Generate dataframe with info"
   ]
  },
  {
   "cell_type": "code",
   "execution_count": 50,
   "metadata": {},
   "outputs": [],
   "source": [
    "info = []"
   ]
  },
  {
   "cell_type": "code",
   "execution_count": 51,
   "metadata": {},
   "outputs": [
    {
     "data": {
      "text/html": [
       "<div>\n",
       "<style scoped>\n",
       "    .dataframe tbody tr th:only-of-type {\n",
       "        vertical-align: middle;\n",
       "    }\n",
       "\n",
       "    .dataframe tbody tr th {\n",
       "        vertical-align: top;\n",
       "    }\n",
       "\n",
       "    .dataframe thead th {\n",
       "        text-align: right;\n",
       "    }\n",
       "</style>\n",
       "<table border=\"1\" class=\"dataframe\">\n",
       "  <thead>\n",
       "    <tr style=\"text-align: right;\">\n",
       "      <th></th>\n",
       "      <th>External code</th>\n",
       "      <th>Vendor</th>\n",
       "      <th>Centre</th>\n",
       "      <th>Labeled</th>\n",
       "      <th>Type</th>\n",
       "      <th>Phase</th>\n",
       "      <th>Slice</th>\n",
       "    </tr>\n",
       "  </thead>\n",
       "  <tbody>\n",
       "    <tr>\n",
       "      <th>0</th>\n",
       "      <td>A0S9V9</td>\n",
       "      <td>A</td>\n",
       "      <td>1</td>\n",
       "      <td>True</td>\n",
       "      <td>ED</td>\n",
       "      <td>0</td>\n",
       "      <td>0</td>\n",
       "    </tr>\n",
       "    <tr>\n",
       "      <th>1</th>\n",
       "      <td>A0S9V9</td>\n",
       "      <td>A</td>\n",
       "      <td>1</td>\n",
       "      <td>True</td>\n",
       "      <td>ED</td>\n",
       "      <td>0</td>\n",
       "      <td>1</td>\n",
       "    </tr>\n",
       "    <tr>\n",
       "      <th>2</th>\n",
       "      <td>A0S9V9</td>\n",
       "      <td>A</td>\n",
       "      <td>1</td>\n",
       "      <td>True</td>\n",
       "      <td>ED</td>\n",
       "      <td>0</td>\n",
       "      <td>2</td>\n",
       "    </tr>\n",
       "    <tr>\n",
       "      <th>3</th>\n",
       "      <td>A0S9V9</td>\n",
       "      <td>A</td>\n",
       "      <td>1</td>\n",
       "      <td>True</td>\n",
       "      <td>ED</td>\n",
       "      <td>0</td>\n",
       "      <td>3</td>\n",
       "    </tr>\n",
       "    <tr>\n",
       "      <th>4</th>\n",
       "      <td>A0S9V9</td>\n",
       "      <td>A</td>\n",
       "      <td>1</td>\n",
       "      <td>True</td>\n",
       "      <td>ED</td>\n",
       "      <td>0</td>\n",
       "      <td>4</td>\n",
       "    </tr>\n",
       "  </tbody>\n",
       "</table>\n",
       "</div>"
      ],
      "text/plain": [
       "  External code Vendor  Centre  Labeled Type  Phase  Slice\n",
       "0        A0S9V9      A       1     True   ED      0      0\n",
       "1        A0S9V9      A       1     True   ED      0      1\n",
       "2        A0S9V9      A       1     True   ED      0      2\n",
       "3        A0S9V9      A       1     True   ED      0      3\n",
       "4        A0S9V9      A       1     True   ED      0      4"
      ]
     },
     "execution_count": 51,
     "metadata": {},
     "output_type": "execute_result"
    }
   ],
   "source": [
    "train_df = pd.read_csv(\"../utils/data/train.csv\")\n",
    "train_df.head()"
   ]
  },
  {
   "cell_type": "code",
   "execution_count": 52,
   "metadata": {},
   "outputs": [
    {
     "data": {
      "application/vnd.jupyter.widget-view+json": {
       "model_id": "219a4484b18a4ba892416311063f5bf3",
       "version_major": 2,
       "version_minor": 0
      },
      "text/plain": [
       "HBox(children=(FloatProgress(value=0.0, max=151.0), HTML(value='')))"
      ]
     },
     "metadata": {},
     "output_type": "display_data"
    },
    {
     "name": "stdout",
     "output_type": "stream",
     "text": [
      "\n"
     ]
    }
   ],
   "source": [
    "for subdir, dirs, files in tqdm(list(os.walk(os.path.join(rootdir, \"Labeled\")))):\n",
    "    for file in files:\n",
    "        if not \"gt\" in file:\n",
    "            file_path = os.path.join(subdir, file)\n",
    "            volume_img, _, _ = load_nii(file_path)\n",
    "            c_patient = file[:file.find(\"_\")]\n",
    "            c_vendor = train_df.loc[train_df[\"External code\"]==c_patient].iloc[0][\"Vendor\"]\n",
    "            c_centre = train_df.loc[train_df[\"External code\"]==c_patient].iloc[0][\"Centre\"]\n",
    "        \n",
    "            for c_phase in range(volume_img.shape[3]):\n",
    "                # We must check that the volume is not labeled, no match for current phase and patient\n",
    "                if len(df.loc[(df[\"External code\"]==c_patient) & (df[\"Phase\"]==c_phase)]) == 0:\n",
    "                    # Iterate over slices, predict and save image slice (not normalized) \n",
    "                    # and his mask as numpy array\n",
    "\n",
    "                    for c_slice in range(volume_img.shape[2]):\n",
    "\n",
    "                        info.append({\n",
    "                            \"External code\": c_patient, \"Vendor\": c_vendor, \n",
    "                            \"Centre\": c_centre, \"FromLabeled\": True,\n",
    "                            \"Phase\": c_phase, \"Slice\": c_slice\n",
    "                        })"
   ]
  },
  {
   "cell_type": "code",
   "execution_count": 53,
   "metadata": {},
   "outputs": [
    {
     "data": {
      "application/vnd.jupyter.widget-view+json": {
       "model_id": "e3f3c65298404581b1193d6e17dfdea1",
       "version_major": 2,
       "version_minor": 0
      },
      "text/plain": [
       "HBox(children=(FloatProgress(value=0.0, max=26.0), HTML(value='')))"
      ]
     },
     "metadata": {},
     "output_type": "display_data"
    },
    {
     "name": "stdout",
     "output_type": "stream",
     "text": [
      "\n"
     ]
    }
   ],
   "source": [
    "for subdir, dirs, files in tqdm(list(os.walk(os.path.join(rootdir, \"Unlabeled\")))):\n",
    "    for file in files:\n",
    "        if not \"gt\" in file:\n",
    "            file_path = os.path.join(subdir, file)\n",
    "            volume_img, _, _ = load_nii(file_path)\n",
    "            c_patient = file[:file.find(\"_\")]\n",
    "            c_vendor = train_df.loc[train_df[\"External code\"]==c_patient].iloc[0][\"Vendor\"]\n",
    "            c_centre = train_df.loc[train_df[\"External code\"]==c_patient].iloc[0][\"Centre\"]\n",
    "        \n",
    "            for c_phase in range(volume_img.shape[3]):\n",
    "                # We must check that the volume is not labeled, no match for current phase and patient\n",
    "                if len(df.loc[(df[\"External code\"]==c_patient) & (df[\"Phase\"]==c_phase)]) == 0:\n",
    "                    # Iterate over slices, predict and save image slice (not normalized) \n",
    "                    # and his mask as numpy array\n",
    "\n",
    "                    for c_slice in range(volume_img.shape[2]):\n",
    "\n",
    "                        info.append({\n",
    "                            \"External code\": c_patient, \"Vendor\": c_vendor, \n",
    "                            \"Centre\": c_centre, \"FromLabeled\": False,\n",
    "                            \"Phase\": c_phase, \"Slice\": c_slice\n",
    "                        })"
   ]
  },
  {
   "cell_type": "code",
   "execution_count": 54,
   "metadata": {},
   "outputs": [
    {
     "data": {
      "text/html": [
       "<div>\n",
       "<style scoped>\n",
       "    .dataframe tbody tr th:only-of-type {\n",
       "        vertical-align: middle;\n",
       "    }\n",
       "\n",
       "    .dataframe tbody tr th {\n",
       "        vertical-align: top;\n",
       "    }\n",
       "\n",
       "    .dataframe thead th {\n",
       "        text-align: right;\n",
       "    }\n",
       "</style>\n",
       "<table border=\"1\" class=\"dataframe\">\n",
       "  <thead>\n",
       "    <tr style=\"text-align: right;\">\n",
       "      <th></th>\n",
       "      <th>External code</th>\n",
       "      <th>Vendor</th>\n",
       "      <th>Centre</th>\n",
       "      <th>FromLabeled</th>\n",
       "      <th>Phase</th>\n",
       "      <th>Slice</th>\n",
       "    </tr>\n",
       "  </thead>\n",
       "  <tbody>\n",
       "    <tr>\n",
       "      <th>0</th>\n",
       "      <td>F8N2S1</td>\n",
       "      <td>B</td>\n",
       "      <td>3</td>\n",
       "      <td>True</td>\n",
       "      <td>0</td>\n",
       "      <td>0</td>\n",
       "    </tr>\n",
       "    <tr>\n",
       "      <th>1</th>\n",
       "      <td>F8N2S1</td>\n",
       "      <td>B</td>\n",
       "      <td>3</td>\n",
       "      <td>True</td>\n",
       "      <td>0</td>\n",
       "      <td>1</td>\n",
       "    </tr>\n",
       "    <tr>\n",
       "      <th>2</th>\n",
       "      <td>F8N2S1</td>\n",
       "      <td>B</td>\n",
       "      <td>3</td>\n",
       "      <td>True</td>\n",
       "      <td>0</td>\n",
       "      <td>2</td>\n",
       "    </tr>\n",
       "    <tr>\n",
       "      <th>3</th>\n",
       "      <td>F8N2S1</td>\n",
       "      <td>B</td>\n",
       "      <td>3</td>\n",
       "      <td>True</td>\n",
       "      <td>0</td>\n",
       "      <td>3</td>\n",
       "    </tr>\n",
       "    <tr>\n",
       "      <th>4</th>\n",
       "      <td>F8N2S1</td>\n",
       "      <td>B</td>\n",
       "      <td>3</td>\n",
       "      <td>True</td>\n",
       "      <td>0</td>\n",
       "      <td>4</td>\n",
       "    </tr>\n",
       "  </tbody>\n",
       "</table>\n",
       "</div>"
      ],
      "text/plain": [
       "  External code Vendor  Centre  FromLabeled  Phase  Slice\n",
       "0        F8N2S1      B       3         True      0      0\n",
       "1        F8N2S1      B       3         True      0      1\n",
       "2        F8N2S1      B       3         True      0      2\n",
       "3        F8N2S1      B       3         True      0      3\n",
       "4        F8N2S1      B       3         True      0      4"
      ]
     },
     "execution_count": 54,
     "metadata": {},
     "output_type": "execute_result"
    }
   ],
   "source": [
    "info_df = pd.DataFrame(info)\n",
    "info_df.head()"
   ]
  },
  {
   "cell_type": "code",
   "execution_count": 55,
   "metadata": {},
   "outputs": [],
   "source": [
    "info_df.to_csv(\"../utils/data/weakly.csv\", index=False)"
   ]
  }
 ],
 "metadata": {
  "kernelspec": {
   "display_name": "Python 3",
   "language": "python",
   "name": "python3"
  },
  "language_info": {
   "codemirror_mode": {
    "name": "ipython",
    "version": 3
   },
   "file_extension": ".py",
   "mimetype": "text/x-python",
   "name": "python",
   "nbconvert_exporter": "python",
   "pygments_lexer": "ipython3",
   "version": "3.7.5"
  }
 },
 "nbformat": 4,
 "nbformat_minor": 2
}
