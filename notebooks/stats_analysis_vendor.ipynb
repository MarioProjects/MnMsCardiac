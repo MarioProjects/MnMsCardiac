{
 "cells": [
  {
   "cell_type": "code",
   "execution_count": 1,
   "metadata": {},
   "outputs": [],
   "source": [
    "import numpy as np\n",
    "import pandas as pd\n",
    "import os"
   ]
  },
  {
   "cell_type": "code",
   "execution_count": 2,
   "metadata": {},
   "outputs": [],
   "source": [
    "def list_files(iterate_dir=\"../results\"):\n",
    "    r = []\n",
    "    for root, dirs, files in os.walk(iterate_dir):\n",
    "        for name in files:\n",
    "            filename = os.path.join(root, name)\n",
    "            if \"stats.csv\" in filename and not \"imagenet\" in filename:\n",
    "                r.append(filename)\n",
    "    return r"
   ]
  },
  {
   "cell_type": "code",
   "execution_count": 3,
   "metadata": {},
   "outputs": [
    {
     "name": "stdout",
     "output_type": "stream",
     "text": [
      "Tenemos un total de 5 stats files\n"
     ]
    }
   ],
   "source": [
    "stats_files = list_files()\n",
    "print(\"Tenemos un total de {} stats files\".format(len(stats_files)))"
   ]
  },
  {
   "cell_type": "markdown",
   "metadata": {},
   "source": [
    "### STATS"
   ]
  },
  {
   "cell_type": "code",
   "execution_count": 6,
   "metadata": {},
   "outputs": [],
   "source": [
    "train_csv = pd.read_csv(\"../utils/data/train.csv\")"
   ]
  },
  {
   "cell_type": "code",
   "execution_count": 7,
   "metadata": {},
   "outputs": [],
   "source": [
    "def clean_stats(df, train_df):\n",
    "    df = df.fillna(1)\n",
    "    df[\"Vendor\"] = \"Z\"\n",
    "    df[\"Centre\"] = 999\n",
    "    df[\"Type\"] = \"XX\"\n",
    "\n",
    "    for i, row in df.iterrows():\n",
    "\n",
    "        patient = row[\"patient\"]\n",
    "        c_phase = row[\"phase\"]\n",
    "\n",
    "        centre = train_df.loc[train_df[\"External code\"]==patient].iloc[0][\"Centre\"]\n",
    "        vendor = train_df.loc[train_df[\"External code\"]==patient].iloc[0][\"Vendor\"]\n",
    "        c_type = train_df.loc[(train_df[\"External code\"]==patient) & (train_df[\"Phase\"]==int(c_phase))].iloc[0][\"Type\"]\n",
    "\n",
    "        df.at[i,'Vendor'] = vendor\n",
    "        df.at[i,'Centre'] = centre\n",
    "        df.at[i,'Type'] = c_type\n",
    "    \n",
    "    return df"
   ]
  },
  {
   "cell_type": "code",
   "execution_count": 10,
   "metadata": {},
   "outputs": [
    {
     "name": "stdout",
     "output_type": "stream",
     "text": [
      "Method \t\t\t\t\t IOU\t           DICE\t              Hausdorff          ASSD\n",
      "       \t\t\t\t\t A        B      | A        B      |  A        B      |  A        B      |\n",
      "------------------------------------------------------------------------------------------------------------------\n",
      "cmiainod lr 0.001 standardize fold 3\t 0.7458   0.7797 | 0.8222   0.8489 |  3.8657   3.3349 |  1.1234   0.9558 |\n",
      "cmiainod lr 0.001 standardize fold 0\t 0.7127   0.7659 | 0.7840   0.8411 |  4.2761   3.6185 |  1.2091   1.0008 |\n",
      "cmiainod lr 0.001 standardize fold 1\t 0.7557   0.7865 | 0.8295   0.8617 |  4.4001   3.6924 |  1.2161   1.0199 |\n",
      "cmiainod lr 0.001 standardize fold 2\t 0.7047   0.7884 | 0.7838   0.8612 |  5.5903   3.4184 |  1.5098   0.9581 |\n",
      "cmiainod lr 0.001 standardize fold 4\t 0.7475   0.7973 | 0.8241   0.8681 |  4.2544   3.3810 |  1.1710   0.8775 |\n"
     ]
    }
   ],
   "source": [
    "print(\"Method \\t\\t\\t\\t\\t IOU\\t           DICE\\t              Hausdorff          ASSD\")\n",
    "print(\"       \\t\\t\\t\\t\\t A        B      | A        B      |  A        B      |  A        B      |\")\n",
    "print(\"-\"*114)\n",
    "table_global_mean_iou_a, table_global_mean_iou_b = [], []\n",
    "table_global_mean_dice_a, table_global_mean_dice_b = [], []\n",
    "table_global_mean_hausdorff_a, table_global_mean_hausdorff_b = [], []\n",
    "table_global_mean_assd_a, table_global_mean_assd_b = [], []\n",
    "for filename in stats_files:\n",
    "    df = pd.read_csv(filename)\n",
    "    df = clean_stats(df, train_csv)\n",
    "    filename = filename[11:]\n",
    "    model = filename.split(\"/\")[1]\n",
    "    data_augmentation = filename.split(\"/\")[7][filename.split(\"/\")[7].find(\"_da\")+3:filename.split(\"/\")[7].find(\"_scheduler\")]\n",
    "    optimizer = filename.split(\"/\")[3]\n",
    "    criterion = filename.split(\"/\")[4][:filename.split(\"/\")[4].find(\"_weights\")]\n",
    "    criterion_weights = filename.split(\"/\")[4][filename.split(\"/\")[4].find(\"_weights\")+8:]\n",
    "    lr = filename.split(\"/\")[7][filename.split(\"/\")[7].find(\"_lr\")+3:]\n",
    "    dataset = filename.split(\"/\")[2]\n",
    "    normalization = filename.split(\"/\")[5][len(\"normalization_\"):]\n",
    "    train_vendor = filename.split(\"/\")[7][8]\n",
    "    test_vendor = filename.split(\"/\")[7][18]\n",
    "    \n",
    "    mean_iou_lv = df[df[\"IOU_LV\"] != -1].groupby(\"Vendor\").mean()[\"IOU_LV\"]\n",
    "    mean_iou_rv = df[df[\"IOU_RV\"] != -1].groupby(\"Vendor\").mean()[\"IOU_RV\"]\n",
    "    mean_iou_myo = df[df[\"IOU_MYO\"] != -1].groupby(\"Vendor\").mean()[\"IOU_MYO\"]\n",
    "    global_mean_iou = (mean_iou_lv + mean_iou_rv + mean_iou_myo) / 3\n",
    "    table_global_mean_iou_a.append(global_mean_iou[\"A\"])\n",
    "    table_global_mean_iou_b.append(global_mean_iou[\"B\"])\n",
    "    \n",
    "    mean_dice_lv = df[df[\"DICE_LV\"] != -1].groupby(\"Vendor\").mean()[\"DICE_LV\"]\n",
    "    mean_dice_rv = df[df[\"DICE_RV\"] != -1].groupby(\"Vendor\").mean()[\"DICE_RV\"]\n",
    "    mean_dice_myo = df[df[\"DICE_LV\"] != -1].groupby(\"Vendor\").mean()[\"DICE_MYO\"]\n",
    "    global_mean_dice = (mean_dice_lv + mean_dice_rv + mean_dice_myo) / 3\n",
    "    table_global_mean_dice_a.append(global_mean_dice[\"A\"])\n",
    "    table_global_mean_dice_b.append(global_mean_dice[\"B\"])\n",
    "    \n",
    "    mean_hausdorff_lv = df[(df[\"HAUSDORFF_LV\"] != -999) & (df[\"HAUSDORFF_LV\"] != 999)].groupby(\"Vendor\").mean()[\"HAUSDORFF_LV\"]\n",
    "    mean_hausdorff_rv = df[(df[\"HAUSDORFF_RV\"] != -999) & (df[\"HAUSDORFF_RV\"] != 999)].groupby(\"Vendor\").mean()[\"HAUSDORFF_RV\"]\n",
    "    mean_hausdorff_myo = df[(df[\"HAUSDORFF_MYO\"] != -999) & (df[\"HAUSDORFF_MYO\"] != 999)].groupby(\"Vendor\").mean()[\"HAUSDORFF_MYO\"]\n",
    "    global_mean_hausdorff = (mean_hausdorff_lv + mean_hausdorff_rv + mean_hausdorff_myo) / 3\n",
    "    table_global_mean_hausdorff_a.append(global_mean_hausdorff[\"A\"])\n",
    "    table_global_mean_hausdorff_b.append(global_mean_hausdorff[\"B\"])\n",
    "    \n",
    "    mean_assd_lv = df[(df[\"ASSD_LV\"] != -999) & (df[\"ASSD_LV\"] != 999)].groupby(\"Vendor\").mean()[\"ASSD_LV\"]\n",
    "    mean_assd_rv = df[(df[\"ASSD_RV\"] != -999) & (df[\"ASSD_RV\"] != 999)].groupby(\"Vendor\").mean()[\"ASSD_RV\"]\n",
    "    mean_assd_myo = df[(df[\"ASSD_MYO\"] != -999) & (df[\"ASSD_MYO\"] != 999)].groupby(\"Vendor\").mean()[\"ASSD_MYO\"]\n",
    "    global_mean_assd = (mean_assd_lv + mean_assd_rv + mean_assd_myo) / 3\n",
    "    table_global_mean_assd_a.append(global_mean_assd[\"A\"])\n",
    "    table_global_mean_assd_b.append(global_mean_assd[\"B\"])\n",
    "    \n",
    "    method = \"{} lr {} {}\".format(data_augmentation[::2], lr, normalization)\n",
    "    \n",
    "    if True: # \"none\" == data_augmentation and lr ==\"0.005\":\n",
    "        print(\"{} fold {}\\t {:.4f}   {:.4f} | {:.4f}   {:.4f} |  {:.4f}   {:.4f} |  {:.4f}   {:.4f} |\".format(method, train_vendor, global_mean_iou[\"A\"], global_mean_iou[\"B\"], global_mean_dice[\"A\"], global_mean_dice[\"B\"], global_mean_hausdorff[\"A\"], global_mean_hausdorff[\"B\"], global_mean_assd[\"A\"], global_mean_assd[\"B\"]))"
   ]
  },
  {
   "cell_type": "code",
   "execution_count": 12,
   "metadata": {},
   "outputs": [
    {
     "name": "stdout",
     "output_type": "stream",
     "text": [
      "table_global_mean_iou_a 0.7332864777518415\n",
      "table_global_mean_iou_b 0.7835851112018767\n",
      "table_global_mean_dice_a 0.8087428730284859\n",
      "table_global_mean_dice_b 0.8561972059204944\n",
      "table_global_mean_hausdorff_a 4.477343513861242\n",
      "table_global_mean_hausdorff_b 3.4890352110024963\n",
      "table_global_mean_assd_a 1.2458696535304168\n",
      "table_global_mean_assd_b 0.9624045796788476\n"
     ]
    }
   ],
   "source": [
    "print(f\"table_global_mean_iou_a {np.array(table_global_mean_iou_a).mean()}\")\n",
    "print(f\"table_global_mean_iou_b {np.array(table_global_mean_iou_b).mean()}\")\n",
    "\n",
    "print(f\"table_global_mean_dice_a {np.array(table_global_mean_dice_a).mean()}\")\n",
    "print(f\"table_global_mean_dice_b {np.array(table_global_mean_dice_b).mean()}\")\n",
    "\n",
    "print(f\"table_global_mean_hausdorff_a {np.array(table_global_mean_hausdorff_a).mean()}\")\n",
    "print(f\"table_global_mean_hausdorff_b {np.array(table_global_mean_hausdorff_b).mean()}\")\n",
    "\n",
    "print(f\"table_global_mean_assd_a {np.array(table_global_mean_assd_a).mean()}\")\n",
    "print(f\"table_global_mean_assd_b {np.array(table_global_mean_assd_b).mean()}\")"
   ]
  },
  {
   "cell_type": "code",
   "execution_count": null,
   "metadata": {},
   "outputs": [],
   "source": [
    "table_global_mean_iou_b"
   ]
  },
  {
   "cell_type": "code",
   "execution_count": null,
   "metadata": {},
   "outputs": [],
   "source": [
    "table_global_mean_dice_a, table_global_mean_dice_b = [], []\n",
    "table_global_mean_hausdorff_a, table_global_mean_hausdorff_b = [], []\n",
    "table_global_mean_assd_a, table_global_mean_assd_b = [], []"
   ]
  },
  {
   "cell_type": "code",
   "execution_count": 9,
   "metadata": {},
   "outputs": [
    {
     "name": "stdout",
     "output_type": "stream",
     "text": [
      "0.7333\n"
     ]
    }
   ],
   "source": [
    "fold_mean_str = \"0.7458 | 0.7127 | 0.7557 | 0.7047 | 0.7475\"\n",
    "print(\"{:.4f}\".format(np.array([float(val) for val in fold_mean_str.split(\"|\")]).mean()))"
   ]
  }
 ],
 "metadata": {
  "kernelspec": {
   "display_name": "Python 3",
   "language": "python",
   "name": "python3"
  },
  "language_info": {
   "codemirror_mode": {
    "name": "ipython",
    "version": 3
   },
   "file_extension": ".py",
   "mimetype": "text/x-python",
   "name": "python",
   "nbconvert_exporter": "python",
   "pygments_lexer": "ipython3",
   "version": "3.8.2"
  }
 },
 "nbformat": 4,
 "nbformat_minor": 2
}
