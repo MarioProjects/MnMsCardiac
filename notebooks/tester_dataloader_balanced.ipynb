{
 "cells": [
  {
   "cell_type": "markdown",
   "metadata": {},
   "source": [
    "### Import libraries"
   ]
  },
  {
   "cell_type": "code",
   "execution_count": 1,
   "metadata": {},
   "outputs": [],
   "source": [
    "import sys\n",
    "sys.path.append(\"../\")"
   ]
  },
  {
   "cell_type": "code",
   "execution_count": 2,
   "metadata": {},
   "outputs": [],
   "source": [
    "import os\n",
    "from os import environ\n",
    "import numpy as np\n",
    "from random import choices\n",
    "import pandas as pd\n",
    "from tqdm.notebook import tqdm"
   ]
  },
  {
   "cell_type": "code",
   "execution_count": 3,
   "metadata": {},
   "outputs": [],
   "source": [
    "import skimage.io as io"
   ]
  },
  {
   "cell_type": "code",
   "execution_count": 4,
   "metadata": {},
   "outputs": [],
   "source": [
    "import seaborn as sns\n",
    "import matplotlib.pyplot as plt\n",
    "import matplotlib.transforms as mtrans\n",
    "%matplotlib inline"
   ]
  },
  {
   "cell_type": "code",
   "execution_count": 5,
   "metadata": {},
   "outputs": [],
   "source": [
    "from preprocess.common import load_nii"
   ]
  },
  {
   "cell_type": "code",
   "execution_count": 6,
   "metadata": {},
   "outputs": [],
   "source": [
    "from torch.utils.data import DataLoader\n",
    "from torchcontrib.optim import SWA\n",
    "\n",
    "# ---- My utils ----\n",
    "from utils.data_augmentation import data_augmentation_selector\n",
    "from utils.dataload import *\n",
    "from utils.training import *"
   ]
  },
  {
   "cell_type": "code",
   "execution_count": 7,
   "metadata": {
    "scrolled": true
   },
   "outputs": [
    {
     "name": "stdout",
     "output_type": "stream",
     "text": [
      "Using None Data Augmentation\n"
     ]
    }
   ],
   "source": [
    "train_aug, train_aug_img, val_aug = data_augmentation_selector(\"none\", 224, 224)"
   ]
  },
  {
   "cell_type": "code",
   "execution_count": 11,
   "metadata": {},
   "outputs": [
    {
     "name": "stdout",
     "output_type": "stream",
     "text": [
      "\n",
      "-------------------------\n",
      "USING ALL DATA FOR TRAINING\n",
      "-------------------------\n",
      "\n"
     ]
    }
   ],
   "source": [
    "data_partition = \"train\"\n",
    "general_aug, img_aug = train_aug, train_aug_img\n",
    "normalization = \"standardize\"\n",
    "fold_system = \"all\"\n",
    "label_type = \"mask\"\n",
    "\n",
    "\n",
    "mnms_dataset = MMsDataset(\n",
    "    mode=\"train\", transform=train_aug, img_transform=train_aug_img,\n",
    "    folding_system=fold_system, normalization=normalization, label_type=label_type\n",
    ")"
   ]
  },
  {
   "cell_type": "code",
   "execution_count": 12,
   "metadata": {},
   "outputs": [
    {
     "data": {
      "text/plain": [
       "3284"
      ]
     },
     "execution_count": 12,
     "metadata": {},
     "output_type": "execute_result"
    }
   ],
   "source": [
    "len(mnms_dataset.df)"
   ]
  },
  {
   "cell_type": "code",
   "execution_count": 15,
   "metadata": {},
   "outputs": [
    {
     "name": "stdout",
     "output_type": "stream",
     "text": [
      "\n",
      "-------------------------\n",
      "USING ALL DATA FOR TRAINING\n",
      "-------------------------\n",
      "\n"
     ]
    }
   ],
   "source": [
    "weakly_dataset = MMsWeaklyDataset(\n",
    "    mode=\"train\", transform=train_aug, img_transform=train_aug_img,\n",
    "    folding_system=fold_system, normalization=normalization, label_type=label_type\n",
    ")"
   ]
  },
  {
   "cell_type": "code",
   "execution_count": 16,
   "metadata": {},
   "outputs": [
    {
     "data": {
      "text/plain": [
       "47059"
      ]
     },
     "execution_count": 16,
     "metadata": {},
     "output_type": "execute_result"
    }
   ],
   "source": [
    "len(weakly_dataset.df)"
   ]
  },
  {
   "cell_type": "code",
   "execution_count": 79,
   "metadata": {},
   "outputs": [],
   "source": [
    "from itertools import chain"
   ]
  },
  {
   "cell_type": "code",
   "execution_count": 80,
   "metadata": {},
   "outputs": [],
   "source": [
    "def unpackTuple(tup): \n",
    "    res = [] \n",
    "    for i in chain(*tup): \n",
    "        res.append(i) \n",
    "          \n",
    "    return res"
   ]
  },
  {
   "cell_type": "code",
   "execution_count": 235,
   "metadata": {},
   "outputs": [],
   "source": [
    "class BalancedConcatDataset(torch.utils.data.Dataset):\n",
    "    def __init__(self, *datasets):\n",
    "        self.datasets = datasets\n",
    "        self.max_len = max(len(d) for d in self.datasets)\n",
    "        self.min_len = min(len(d) for d in self.datasets)\n",
    "\n",
    "    def __getitem__(self, i):\n",
    "        return tuple(d[i % len(d)] for d in self.datasets)\n",
    "\n",
    "    def masks_collate(self, batch):\n",
    "        # Only image - mask\n",
    "        images, masks = [], []\n",
    "        for item in range(len(batch)):\n",
    "            for c_dataset in range(len(batch[item])):\n",
    "                images.append(batch[item][c_dataset][0])\n",
    "                masks.append(batch[item][c_dataset][1])\n",
    "        images = torch.stack(images)\n",
    "        masks = torch.stack(masks)\n",
    "        return images, masks\n",
    "    \n",
    "    def __len__(self):\n",
    "        return self.max_len"
   ]
  },
  {
   "cell_type": "code",
   "execution_count": 236,
   "metadata": {},
   "outputs": [],
   "source": [
    "train_dataset = BalancedConcatDataset(mnms_dataset, weakly_dataset, weakly_dataset)\n",
    "train_loader = DataLoader(train_dataset, batch_size=2, shuffle=True, drop_last=True, collate_fn=train_dataset.masks_collate)"
   ]
  },
  {
   "cell_type": "code",
   "execution_count": 237,
   "metadata": {},
   "outputs": [],
   "source": [
    "for a,b in train_loader:\n",
    "    break"
   ]
  },
  {
   "cell_type": "code",
   "execution_count": null,
   "metadata": {},
   "outputs": [],
   "source": []
  }
 ],
 "metadata": {
  "kernelspec": {
   "display_name": "Python 3",
   "language": "python",
   "name": "python3"
  },
  "language_info": {
   "codemirror_mode": {
    "name": "ipython",
    "version": 3
   },
   "file_extension": ".py",
   "mimetype": "text/x-python",
   "name": "python",
   "nbconvert_exporter": "python",
   "pygments_lexer": "ipython3",
   "version": "3.8.2"
  }
 },
 "nbformat": 4,
 "nbformat_minor": 4
}
