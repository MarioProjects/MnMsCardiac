{
 "cells": [
  {
   "cell_type": "markdown",
   "metadata": {},
   "source": [
    "### Import libraries"
   ]
  },
  {
   "cell_type": "code",
   "execution_count": 1,
   "metadata": {},
   "outputs": [],
   "source": [
    "import sys\n",
    "sys.path.append(\"../\")"
   ]
  },
  {
   "cell_type": "code",
   "execution_count": 2,
   "metadata": {},
   "outputs": [],
   "source": [
    "import os\n",
    "from os import environ\n",
    "import numpy as np\n",
    "from random import choices\n",
    "import pandas as pd\n",
    "from tqdm.notebook import tqdm"
   ]
  },
  {
   "cell_type": "code",
   "execution_count": 3,
   "metadata": {},
   "outputs": [],
   "source": [
    "import skimage.io as io"
   ]
  },
  {
   "cell_type": "code",
   "execution_count": 4,
   "metadata": {},
   "outputs": [],
   "source": [
    "import seaborn as sns\n",
    "import matplotlib.pyplot as plt\n",
    "import matplotlib.transforms as mtrans\n",
    "%matplotlib inline"
   ]
  },
  {
   "cell_type": "code",
   "execution_count": 5,
   "metadata": {},
   "outputs": [],
   "source": [
    "from preprocess.common import load_nii"
   ]
  },
  {
   "cell_type": "code",
   "execution_count": 6,
   "metadata": {},
   "outputs": [],
   "source": [
    "from shutil import copyfile\n",
    "from sklearn.model_selection import GroupKFold"
   ]
  },
  {
   "cell_type": "markdown",
   "metadata": {},
   "source": [
    "### Generate all data"
   ]
  },
  {
   "cell_type": "code",
   "execution_count": 7,
   "metadata": {},
   "outputs": [],
   "source": [
    "if environ.get('MMsCardiac_DATA_PATH') is not None:\n",
    "    MMs_DATA_PATH = environ.get('MMsCardiac_DATA_PATH')\n",
    "else:\n",
    "    print(\"Please set the environment variable MMs_DATA_PATH. Read the README!\")"
   ]
  },
  {
   "cell_type": "code",
   "execution_count": 8,
   "metadata": {},
   "outputs": [],
   "source": [
    "df = pd.read_csv(\"../utils/data/train.csv\")"
   ]
  },
  {
   "cell_type": "code",
   "execution_count": 9,
   "metadata": {},
   "outputs": [],
   "source": [
    "vendor_save_path = \"byVendor\""
   ]
  },
  {
   "cell_type": "code",
   "execution_count": 10,
   "metadata": {},
   "outputs": [],
   "source": [
    "for c_vendor in df[\"Vendor\"].unique():\n",
    "    os.makedirs(os.path.join(MMs_DATA_PATH, vendor_save_path, \"train{}\".format(c_vendor)), exist_ok=True)\n",
    "    os.makedirs(os.path.join(MMs_DATA_PATH, vendor_save_path, \"val{}\".format(c_vendor)), exist_ok=True)"
   ]
  },
  {
   "cell_type": "code",
   "execution_count": 11,
   "metadata": {},
   "outputs": [],
   "source": [
    "skf = GroupKFold(n_splits=7)\n",
    "target = df[\"Vendor\"]\n",
    "\n",
    "# Get current fold data\n",
    "for fold_indx, (train_index, val_index) in enumerate(skf.split(np.zeros(len(target)), target, groups=df[\"External code\"])):\n",
    "    if fold_indx == 0:  # If current iteration is the desired fold, take it!\n",
    "        df_train = df.loc[train_index]\n",
    "        df_val = df.loc[val_index]"
   ]
  },
  {
   "cell_type": "code",
   "execution_count": 12,
   "metadata": {},
   "outputs": [
    {
     "data": {
      "text/plain": [
       "A    1560\n",
       "B    1312\n",
       "C     436\n",
       "Name: Vendor, dtype: int64"
      ]
     },
     "execution_count": 12,
     "metadata": {},
     "output_type": "execute_result"
    }
   ],
   "source": [
    "df_train[\"Vendor\"].value_counts()"
   ]
  },
  {
   "cell_type": "code",
   "execution_count": 13,
   "metadata": {},
   "outputs": [
    {
     "data": {
      "text/plain": [
       "B    234\n",
       "A    178\n",
       "C    138\n",
       "Name: Vendor, dtype: int64"
      ]
     },
     "execution_count": 13,
     "metadata": {},
     "output_type": "execute_result"
    }
   ],
   "source": [
    "df_val[\"Vendor\"].value_counts()"
   ]
  },
  {
   "cell_type": "code",
   "execution_count": 14,
   "metadata": {},
   "outputs": [
    {
     "data": {
      "text/plain": [
       "array([], dtype=object)"
      ]
     },
     "execution_count": 14,
     "metadata": {},
     "output_type": "execute_result"
    }
   ],
   "source": [
    "np.intersect1d(df_train[\"External code\"].unique(), df_val[\"External code\"].unique())"
   ]
  },
  {
   "cell_type": "markdown",
   "metadata": {},
   "source": [
    "---------------------------------------------------------------------------------------------------"
   ]
  },
  {
   "cell_type": "code",
   "execution_count": 15,
   "metadata": {},
   "outputs": [],
   "source": [
    "vendor_count = {i:0 for i in df[\"Vendor\"].unique()}"
   ]
  },
  {
   "cell_type": "code",
   "execution_count": 16,
   "metadata": {},
   "outputs": [],
   "source": [
    "for index, row in df_train.iterrows():\n",
    "    \n",
    "    external_code = row[\"External code\"]\n",
    "    current_vendor, current_slice, current_phase = row[\"Vendor\"], row[\"Slice\"], row[\"Phase\"]\n",
    "    \n",
    "    filename = \"{}.npy\".format(vendor_count[current_vendor])\n",
    "    \n",
    "    if row['Labeled']:\n",
    "        data_parent = os.path.join(\"Training-corrected\", \"Labeled_npy\")\n",
    "    else:\n",
    "        data_parent = os.path.join(\"Training-corrected\", \"Unlabeled_npy\")\n",
    "        \n",
    "\n",
    "    img_path = os.path.join(\n",
    "        MMs_DATA_PATH, data_parent,\n",
    "        external_code, \"{}_slice{}_phase{}.npy\".format(external_code, current_slice, current_phase)\n",
    "    )\n",
    "    \n",
    "    if not os.path.exists(img_path):\n",
    "        assert False, \"Error! Path not exists for '{}'\".format(img_path)\n",
    "        \n",
    "    \n",
    "    dst = os.path.join(\n",
    "        MMs_DATA_PATH, vendor_save_path, \"train{}\".format(current_vendor), filename\n",
    "    )\n",
    "    copyfile(img_path, dst)\n",
    "    \n",
    "    vendor_count[current_vendor]+=1"
   ]
  },
  {
   "cell_type": "code",
   "execution_count": 17,
   "metadata": {},
   "outputs": [],
   "source": [
    "vendor_count = {i:0 for i in df[\"Vendor\"].unique()}"
   ]
  },
  {
   "cell_type": "code",
   "execution_count": 18,
   "metadata": {},
   "outputs": [],
   "source": [
    "for index, row in df_val.iterrows():\n",
    "    \n",
    "    external_code = row[\"External code\"]\n",
    "    current_vendor, current_slice, current_phase = row[\"Vendor\"], row[\"Slice\"], row[\"Phase\"]\n",
    "    \n",
    "    filename = \"{}.npy\".format(vendor_count[current_vendor])\n",
    "    \n",
    "    if row['Labeled']:\n",
    "        data_parent = os.path.join(\"Training-corrected\", \"Labeled_npy\")\n",
    "    else:\n",
    "        data_parent = os.path.join(\"Training-corrected\", \"Unlabeled_npy\")\n",
    "        \n",
    "\n",
    "    img_path = os.path.join(\n",
    "        MMs_DATA_PATH, data_parent,\n",
    "        external_code, \"{}_slice{}_phase{}.npy\".format(external_code, current_slice, current_phase)\n",
    "    )\n",
    "    \n",
    "    if not os.path.exists(img_path):\n",
    "        assert False, \"Error! Path not exists for '{}'\".format(img_path)\n",
    "        \n",
    "    \n",
    "    dst = os.path.join(\n",
    "        MMs_DATA_PATH, vendor_save_path, \"val{}\".format(current_vendor), filename\n",
    "    )\n",
    "    copyfile(img_path, dst)\n",
    "    \n",
    "    vendor_count[current_vendor]+=1"
   ]
  }
 ],
 "metadata": {
  "kernelspec": {
   "display_name": "Python 3",
   "language": "python",
   "name": "python3"
  },
  "language_info": {
   "codemirror_mode": {
    "name": "ipython",
    "version": 3
   },
   "file_extension": ".py",
   "mimetype": "text/x-python",
   "name": "python",
   "nbconvert_exporter": "python",
   "pygments_lexer": "ipython3",
   "version": "3.8.2"
  }
 },
 "nbformat": 4,
 "nbformat_minor": 4
}
