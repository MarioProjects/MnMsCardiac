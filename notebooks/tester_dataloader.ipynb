{
 "cells": [
  {
   "cell_type": "markdown",
   "metadata": {},
   "source": [
    "### Import libraries"
   ]
  },
  {
   "cell_type": "code",
   "execution_count": 1,
   "metadata": {},
   "outputs": [],
   "source": [
    "import sys\n",
    "sys.path.append(\"../\")"
   ]
  },
  {
   "cell_type": "code",
   "execution_count": 2,
   "metadata": {},
   "outputs": [],
   "source": [
    "import os\n",
    "from os import environ\n",
    "import numpy as np\n",
    "from random import choices\n",
    "import pandas as pd\n",
    "from tqdm.notebook import tqdm"
   ]
  },
  {
   "cell_type": "code",
   "execution_count": 3,
   "metadata": {},
   "outputs": [],
   "source": [
    "import skimage.io as io"
   ]
  },
  {
   "cell_type": "code",
   "execution_count": 4,
   "metadata": {},
   "outputs": [],
   "source": [
    "import seaborn as sns\n",
    "import matplotlib.pyplot as plt\n",
    "import matplotlib.transforms as mtrans\n",
    "%matplotlib inline"
   ]
  },
  {
   "cell_type": "code",
   "execution_count": 5,
   "metadata": {},
   "outputs": [],
   "source": [
    "from preprocess.common import load_nii"
   ]
  },
  {
   "cell_type": "code",
   "execution_count": 6,
   "metadata": {},
   "outputs": [],
   "source": [
    "from torch.utils.data import DataLoader\n",
    "from torchcontrib.optim import SWA\n",
    "\n",
    "# ---- My utils ----\n",
    "from utils.data_augmentation import data_augmentation_selector\n",
    "from utils.dataload import *\n",
    "from utils.training import *"
   ]
  },
  {
   "cell_type": "code",
   "execution_count": 7,
   "metadata": {
    "scrolled": true
   },
   "outputs": [
    {
     "name": "stdout",
     "output_type": "stream",
     "text": [
      "Using None Data Augmentation\n"
     ]
    }
   ],
   "source": [
    "train_aug, train_aug_img, val_aug = data_augmentation_selector(\"none\", 224, 224)"
   ]
  },
  {
   "cell_type": "code",
   "execution_count": 8,
   "metadata": {},
   "outputs": [],
   "source": [
    "data_partition = \"train\"\n",
    "general_aug, img_aug = train_aug, train_aug_img\n",
    "normalization = \"standardize\"\n",
    "fold_system = \"patient\"\n",
    "label_type = \"mask\"\n",
    "\n",
    "\n",
    "train_dataset = MMsDataset(\n",
    "    mode=data_partition, transform=general_aug, img_transform=img_aug,\n",
    "    folding_system=fold_system, normalization=normalization, label_type=label_type\n",
    ")"
   ]
  },
  {
   "cell_type": "code",
   "execution_count": 9,
   "metadata": {},
   "outputs": [],
   "source": [
    "data_partition = \"validation\"\n",
    "general_aug, img_aug = train_aug, train_aug_img\n",
    "normalization = \"standardize\"\n",
    "fold_system = \"patient\"\n",
    "label_type = \"mask\"\n",
    "\n",
    "\n",
    "validation_dataset = MMsDataset(\n",
    "    mode=data_partition, transform=general_aug, img_transform=img_aug,\n",
    "    folding_system=fold_system, normalization=normalization, label_type=label_type\n",
    ")"
   ]
  },
  {
   "cell_type": "code",
   "execution_count": 24,
   "metadata": {},
   "outputs": [],
   "source": [
    "data_partition = \"train\"\n",
    "general_aug, img_aug = train_aug, train_aug_img\n",
    "normalization = \"standardize\"\n",
    "fold_system = \"exclusion\"\n",
    "label_type = \"mask\"\n",
    "\n",
    "\n",
    "train_dataset_weakly = MMsWeaklyDataset(\n",
    "    mode=data_partition, transform=general_aug, img_transform=img_aug,\n",
    "    folding_system=fold_system, normalization=normalization, label_type=label_type,\n",
    "    exclusion_patients=validation_dataset.df[\"External code\"].unique()\n",
    ")"
   ]
  },
  {
   "cell_type": "code",
   "execution_count": 20,
   "metadata": {},
   "outputs": [
    {
     "data": {
      "text/plain": [
       "30"
      ]
     },
     "execution_count": 20,
     "metadata": {},
     "output_type": "execute_result"
    }
   ],
   "source": [
    "len(validation_dataset.df[\"External code\"].unique())"
   ]
  },
  {
   "cell_type": "code",
   "execution_count": 23,
   "metadata": {},
   "outputs": [
    {
     "data": {
      "text/plain": [
       "175"
      ]
     },
     "execution_count": 23,
     "metadata": {},
     "output_type": "execute_result"
    }
   ],
   "source": [
    "len(train_dataset_weakly.df[\"External code\"].unique())"
   ]
  },
  {
   "cell_type": "code",
   "execution_count": 11,
   "metadata": {},
   "outputs": [],
   "source": [
    "val_patients = validation_dataset.df[\"External code\"].unique()"
   ]
  },
  {
   "cell_type": "code",
   "execution_count": 21,
   "metadata": {},
   "outputs": [
    {
     "name": "stdout",
     "output_type": "stream",
     "text": [
      "[]\n",
      "[]\n"
     ]
    }
   ],
   "source": [
    "print(np.intersect1d(val_patients, train_dataset.df[\"External code\"].unique()))\n",
    "print(np.intersect1d(val_patients, train_dataset_weakly.df[\"External code\"].unique()))"
   ]
  },
  {
   "cell_type": "code",
   "execution_count": 20,
   "metadata": {},
   "outputs": [],
   "source": [
    "train_loader = DataLoader(dataset, batch_size=2, shuffle=True, drop_last=False)"
   ]
  },
  {
   "cell_type": "code",
   "execution_count": 28,
   "metadata": {},
   "outputs": [
    {
     "name": "stdout",
     "output_type": "stream",
     "text": [
      "comeon\n",
      "comeon\n"
     ]
    }
   ],
   "source": [
    "for indx, (image, label) in enumerate(train_loader):\n",
    "    break"
   ]
  },
  {
   "cell_type": "code",
   "execution_count": 9,
   "metadata": {},
   "outputs": [],
   "source": [
    "data_partition = \"validation\"\n",
    "general_aug, img_aug = train_aug, train_aug_img\n",
    "normalization = \"standardize\"\n",
    "fold_system = \"patient\"\n",
    "label_type = \"vendor_label_full\"\n",
    "data_fold = 0\n",
    "\n",
    "\n",
    "val_dataset = MMsDataset(\n",
    "    mode=data_partition, transform=general_aug, img_transform=img_aug,\n",
    "    folding_system=fold_system, normalization=normalization, label_type=label_type,\n",
    "    train_fold=data_fold, val_fold=None,\n",
    ")"
   ]
  },
  {
   "cell_type": "markdown",
   "metadata": {},
   "source": [
    "---------------------------------------------------------------------------------------------\n",
    "\n",
    "---------------------------------------------------------------------------------------------\n",
    "\n",
    "---------------------------------------------------------------------------------------------\n",
    "\n",
    "---------------------------------------------------------------------------------------------\n",
    "\n",
    "---------------------------------------------------------------------------------------------\n",
    "\n",
    "---------------------------------------------------------------------------------------------"
   ]
  },
  {
   "cell_type": "code",
   "execution_count": 10,
   "metadata": {},
   "outputs": [
    {
     "ename": "NameError",
     "evalue": "name 'train_dataset' is not defined",
     "output_type": "error",
     "traceback": [
      "\u001b[0;31m---------------------------------------------------------------------------\u001b[0m",
      "\u001b[0;31mNameError\u001b[0m                                 Traceback (most recent call last)",
      "\u001b[0;32m<ipython-input-10-dafc790532ed>\u001b[0m in \u001b[0;36m<module>\u001b[0;34m\u001b[0m\n\u001b[0;32m----> 1\u001b[0;31m \u001b[0mtrain_dataset\u001b[0m\u001b[0;34m.\u001b[0m\u001b[0mdf\u001b[0m\u001b[0;34m.\u001b[0m\u001b[0mhead\u001b[0m\u001b[0;34m(\u001b[0m\u001b[0;34m)\u001b[0m\u001b[0;34m\u001b[0m\u001b[0;34m\u001b[0m\u001b[0m\n\u001b[0m",
      "\u001b[0;31mNameError\u001b[0m: name 'train_dataset' is not defined"
     ]
    }
   ],
   "source": [
    "train_dataset.df.head()"
   ]
  },
  {
   "cell_type": "code",
   "execution_count": 11,
   "metadata": {},
   "outputs": [
    {
     "data": {
      "text/html": [
       "<div>\n",
       "<style scoped>\n",
       "    .dataframe tbody tr th:only-of-type {\n",
       "        vertical-align: middle;\n",
       "    }\n",
       "\n",
       "    .dataframe tbody tr th {\n",
       "        vertical-align: top;\n",
       "    }\n",
       "\n",
       "    .dataframe thead th {\n",
       "        text-align: right;\n",
       "    }\n",
       "</style>\n",
       "<table border=\"1\" class=\"dataframe\">\n",
       "  <thead>\n",
       "    <tr style=\"text-align: right;\">\n",
       "      <th></th>\n",
       "      <th>External code</th>\n",
       "      <th>Vendor</th>\n",
       "      <th>Centre</th>\n",
       "      <th>Labeled</th>\n",
       "      <th>Type</th>\n",
       "      <th>Phase</th>\n",
       "      <th>Slice</th>\n",
       "    </tr>\n",
       "  </thead>\n",
       "  <tbody>\n",
       "    <tr>\n",
       "      <th>0</th>\n",
       "      <td>A3B7E5</td>\n",
       "      <td>B</td>\n",
       "      <td>2</td>\n",
       "      <td>True</td>\n",
       "      <td>ED</td>\n",
       "      <td>29</td>\n",
       "      <td>0</td>\n",
       "    </tr>\n",
       "    <tr>\n",
       "      <th>1</th>\n",
       "      <td>A3B7E5</td>\n",
       "      <td>B</td>\n",
       "      <td>2</td>\n",
       "      <td>True</td>\n",
       "      <td>ED</td>\n",
       "      <td>29</td>\n",
       "      <td>1</td>\n",
       "    </tr>\n",
       "    <tr>\n",
       "      <th>2</th>\n",
       "      <td>A3B7E5</td>\n",
       "      <td>B</td>\n",
       "      <td>2</td>\n",
       "      <td>True</td>\n",
       "      <td>ED</td>\n",
       "      <td>29</td>\n",
       "      <td>2</td>\n",
       "    </tr>\n",
       "    <tr>\n",
       "      <th>3</th>\n",
       "      <td>A3B7E5</td>\n",
       "      <td>B</td>\n",
       "      <td>2</td>\n",
       "      <td>True</td>\n",
       "      <td>ED</td>\n",
       "      <td>29</td>\n",
       "      <td>3</td>\n",
       "    </tr>\n",
       "    <tr>\n",
       "      <th>4</th>\n",
       "      <td>A3B7E5</td>\n",
       "      <td>B</td>\n",
       "      <td>2</td>\n",
       "      <td>True</td>\n",
       "      <td>ED</td>\n",
       "      <td>29</td>\n",
       "      <td>4</td>\n",
       "    </tr>\n",
       "  </tbody>\n",
       "</table>\n",
       "</div>"
      ],
      "text/plain": [
       "  External code Vendor  Centre  Labeled Type  Phase  Slice\n",
       "0        A3B7E5      B       2     True   ED     29      0\n",
       "1        A3B7E5      B       2     True   ED     29      1\n",
       "2        A3B7E5      B       2     True   ED     29      2\n",
       "3        A3B7E5      B       2     True   ED     29      3\n",
       "4        A3B7E5      B       2     True   ED     29      4"
      ]
     },
     "execution_count": 11,
     "metadata": {},
     "output_type": "execute_result"
    }
   ],
   "source": [
    "val_dataset.df.head()"
   ]
  },
  {
   "cell_type": "markdown",
   "metadata": {},
   "source": [
    "#### Value counts"
   ]
  },
  {
   "cell_type": "code",
   "execution_count": 12,
   "metadata": {},
   "outputs": [
    {
     "data": {
      "text/plain": [
       "A    1428\n",
       "B    1220\n",
       "C     436\n",
       "Name: Vendor, dtype: int64"
      ]
     },
     "execution_count": 12,
     "metadata": {},
     "output_type": "execute_result"
    }
   ],
   "source": [
    "train_dataset.df.Vendor.value_counts()"
   ]
  },
  {
   "cell_type": "code",
   "execution_count": 13,
   "metadata": {},
   "outputs": [
    {
     "data": {
      "text/plain": [
       "B    326\n",
       "A    310\n",
       "C    138\n",
       "Name: Vendor, dtype: int64"
      ]
     },
     "execution_count": 13,
     "metadata": {},
     "output_type": "execute_result"
    }
   ],
   "source": [
    "val_dataset.df.Vendor.value_counts()"
   ]
  },
  {
   "cell_type": "markdown",
   "metadata": {},
   "source": [
    "#### Patient intersection"
   ]
  },
  {
   "cell_type": "code",
   "execution_count": 14,
   "metadata": {},
   "outputs": [
    {
     "data": {
      "text/plain": [
       "array([], dtype=object)"
      ]
     },
     "execution_count": 14,
     "metadata": {},
     "output_type": "execute_result"
    }
   ],
   "source": [
    "np.intersect1d(train_dataset.df[\"External code\"].unique(), val_dataset.df[\"External code\"].unique())"
   ]
  }
 ],
 "metadata": {
  "kernelspec": {
   "display_name": "Python 3",
   "language": "python",
   "name": "python3"
  },
  "language_info": {
   "codemirror_mode": {
    "name": "ipython",
    "version": 3
   },
   "file_extension": ".py",
   "mimetype": "text/x-python",
   "name": "python",
   "nbconvert_exporter": "python",
   "pygments_lexer": "ipython3",
   "version": "3.7.5"
  }
 },
 "nbformat": 4,
 "nbformat_minor": 4
}
