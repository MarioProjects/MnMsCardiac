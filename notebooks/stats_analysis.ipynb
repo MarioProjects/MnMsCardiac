{
 "cells": [
  {
   "cell_type": "code",
   "execution_count": 1,
   "metadata": {},
   "outputs": [],
   "source": [
    "import numpy as np\n",
    "import pandas as pd\n",
    "import os"
   ]
  },
  {
   "cell_type": "code",
   "execution_count": 18,
   "metadata": {},
   "outputs": [],
   "source": [
    "def list_files(iterate_dir=\"../results\"):\n",
    "    r = []\n",
    "    for root, dirs, files in os.walk(iterate_dir):\n",
    "        for name in files:\n",
    "            filename = os.path.join(root, name)\n",
    "            if \"stats.csv\" in filename and not \"imagenet\" in filename:\n",
    "                r.append(filename)\n",
    "    return r"
   ]
  },
  {
   "cell_type": "code",
   "execution_count": 19,
   "metadata": {},
   "outputs": [
    {
     "name": "stdout",
     "output_type": "stream",
     "text": [
      "Tenemos un total de 5 stats files\n"
     ]
    }
   ],
   "source": [
    "stats_files = list_files()\n",
    "print(\"Tenemos un total de {} stats files\".format(len(stats_files)))"
   ]
  },
  {
   "cell_type": "code",
   "execution_count": 20,
   "metadata": {},
   "outputs": [],
   "source": [
    "filename = stats_files[-1]"
   ]
  },
  {
   "cell_type": "code",
   "execution_count": 21,
   "metadata": {},
   "outputs": [],
   "source": [
    "df = pd.read_csv(filename)\n",
    "df = df.fillna(1)\n",
    "#df = df.round(4)\n",
    "df.head()\n",
    "filename = filename[11:]"
   ]
  },
  {
   "cell_type": "code",
   "execution_count": 22,
   "metadata": {},
   "outputs": [],
   "source": [
    "model = filename.split(\"/\")[1]\n",
    "data_augmentation = filename.split(\"/\")[6][filename.split(\"/\")[6].find(\"_da\")+3:filename.split(\"/\")[6].find(\"_scheduler\")]\n",
    "optimizer = filename.split(\"/\")[3]\n",
    "criterion = filename.split(\"/\")[4][:filename.split(\"/\")[4].find(\"_weights\")]\n",
    "criterion_weights = filename.split(\"/\")[4][filename.split(\"/\")[4].find(\"_weights\")+8:]\n",
    "lr = filename.split(\"/\")[6][filename.split(\"/\")[6].find(\"_lr\")+3:]\n",
    "dataset = filename.split(\"/\")[2]\n",
    "normalization = filename.split(\"/\")[5][len(\"normalization_\"):]\n",
    "fold = filename.split(\"/\")[6][8]"
   ]
  },
  {
   "cell_type": "code",
   "execution_count": 23,
   "metadata": {},
   "outputs": [],
   "source": [
    "mean_iou_lv = df[\"IOU_LV\"][df[\"IOU_LV\"] != -1].mean()\n",
    "mean_iou_rv = df[\"IOU_RV\"][df[\"IOU_RV\"] != -1].mean()\n",
    "mean_iou_myo = df[\"IOU_MYO\"][df[\"IOU_MYO\"] != -1].mean()\n",
    "global_mean_iou = df[\"IOU_MEAN\"].mean()"
   ]
  },
  {
   "cell_type": "code",
   "execution_count": 24,
   "metadata": {},
   "outputs": [],
   "source": [
    "mean_dice_lv = df[\"DICE_LV\"][df[\"DICE_LV\"] != -1].mean()\n",
    "mean_dice_rv = df[\"DICE_RV\"][df[\"DICE_RV\"] != -1].mean()\n",
    "mean_dice_myo = df[\"DICE_MYO\"][df[\"DICE_MYO\"] != -1].mean()\n",
    "global_mean_dice = df[\"DICE_MEAN\"].mean()"
   ]
  },
  {
   "cell_type": "code",
   "execution_count": 25,
   "metadata": {},
   "outputs": [],
   "source": [
    "method = \"{} -> {} - lr {}\".format(criterion, criterion_weights, lr)"
   ]
  },
  {
   "cell_type": "code",
   "execution_count": 26,
   "metadata": {},
   "outputs": [
    {
     "name": "stdout",
     "output_type": "stream",
     "text": [
      "bce_dice_border_ce -> 0.5,0.2,0.2,0.2,0.5 - lr ldBy_patient | fold a: 0.8374\n"
     ]
    }
   ],
   "source": [
    "print(\"{} | fold {}: {:.4f}\".format(method, fold, (global_mean_iou+global_mean_dice)/2))"
   ]
  },
  {
   "cell_type": "markdown",
   "metadata": {},
   "source": [
    "### Automatic"
   ]
  },
  {
   "cell_type": "code",
   "execution_count": 27,
   "metadata": {},
   "outputs": [
    {
     "name": "stdout",
     "output_type": "stream",
     "text": [
      "DA ldBy_patien - bce_dice_border_ce -> 0.5,0.2,0.2,0.2,0.5 - lr ldBy_patient - standardize | fold a: 0.8366\n",
      "DA ldBy_patien - bce_dice_border_ce -> 0.5,0.2,0.2,0.2,0.5 - lr ldBy_patient - standardize | fold a: 0.8061\n",
      "DA ldBy_patien - bce_dice_border_ce -> 0.5,0.2,0.2,0.2,0.5 - lr ldBy_patient - standardize | fold a: 0.8383\n",
      "DA ldBy_patien - bce_dice_border_ce -> 0.5,0.2,0.2,0.2,0.5 - lr ldBy_patient - standardize | fold a: 0.8257\n",
      "DA ldBy_patien - bce_dice_border_ce -> 0.5,0.2,0.2,0.2,0.5 - lr ldBy_patient - standardize | fold a: 0.8374\n"
     ]
    }
   ],
   "source": [
    "for filename in stats_files:\n",
    "    df = pd.read_csv(filename)\n",
    "    df = df.fillna(1)\n",
    "    filename = filename[11:]\n",
    "    model = filename.split(\"/\")[1]\n",
    "    data_augmentation = filename.split(\"/\")[6][filename.split(\"/\")[6].find(\"_da\")+3:filename.split(\"/\")[6].find(\"_scheduler\")]\n",
    "    optimizer = filename.split(\"/\")[3]\n",
    "    criterion = filename.split(\"/\")[4][:filename.split(\"/\")[4].find(\"_weights\")]\n",
    "    criterion_weights = filename.split(\"/\")[4][filename.split(\"/\")[4].find(\"_weights\")+8:]\n",
    "    lr = filename.split(\"/\")[6][filename.split(\"/\")[6].find(\"_lr\")+3:]\n",
    "    dataset = filename.split(\"/\")[2]\n",
    "    normalization = filename.split(\"/\")[5][len(\"normalization_\"):]\n",
    "    fold = filename.split(\"/\")[6][8]\n",
    "    \n",
    "    mean_iou_lv = df[\"IOU_LV\"][df[\"IOU_LV\"] != -1].mean()\n",
    "    mean_iou_rv = df[\"IOU_RV\"][df[\"IOU_RV\"] != -1].mean()\n",
    "    mean_iou_myo = df[\"IOU_MYO\"][df[\"IOU_MYO\"] != -1].mean()\n",
    "    global_mean_iou = df[\"IOU_MEAN\"].mean()\n",
    "    \n",
    "    mean_dice_lv = df[\"DICE_LV\"][df[\"DICE_LV\"] != -1].mean()\n",
    "    mean_dice_rv = df[\"DICE_RV\"][df[\"DICE_RV\"] != -1].mean()\n",
    "    mean_dice_myo = df[\"DICE_MYO\"][df[\"DICE_MYO\"] != -1].mean()\n",
    "    global_mean_dice = df[\"DICE_MEAN\"].mean()\n",
    "    \n",
    "    method = \"DA {} - {} -> {} - lr {} - {}\".format(data_augmentation, criterion, criterion_weights, lr, normalization)\n",
    "    \n",
    "    print(\"{} | fold {}: {:.4f}\".format(method, fold, (global_mean_iou+global_mean_dice)/2))"
   ]
  },
  {
   "cell_type": "code",
   "execution_count": 18,
   "metadata": {},
   "outputs": [
    {
     "name": "stdout",
     "output_type": "stream",
     "text": [
      "0.78634\n"
     ]
    }
   ],
   "source": [
    "fold_mean_str = \"0.7741 | 0.7879 | 0.7743 | 0.7883 | 0.8071\"\n",
    "print(np.array([float(val) for val in fold_mean_str.split(\"|\")]).mean())"
   ]
  }
 ],
 "metadata": {
  "kernelspec": {
   "display_name": "Python 3",
   "language": "python",
   "name": "python3"
  },
  "language_info": {
   "codemirror_mode": {
    "name": "ipython",
    "version": 3
   },
   "file_extension": ".py",
   "mimetype": "text/x-python",
   "name": "python",
   "nbconvert_exporter": "python",
   "pygments_lexer": "ipython3",
   "version": "3.8.2"
  }
 },
 "nbformat": 4,
 "nbformat_minor": 2
}
